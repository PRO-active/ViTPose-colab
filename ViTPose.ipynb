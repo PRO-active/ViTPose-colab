{
  "nbformat": 4,
  "nbformat_minor": 0,
  "metadata": {
    "colab": {
      "provenance": []
    },
    "kernelspec": {
      "name": "python3",
      "display_name": "Python 3"
    },
    "language_info": {
      "name": "python"
    }
  },
  "cells": [
    {
      "cell_type": "code",
      "source": [
        "!pip install mmcv-full==1.5.0 mmdet==2.24.1 mmpose==0.25.1 numpy==1.23.5 opencv-python-headless==4.8.0.74 openmim==0.1.5 timm==0.5.4 torch==1.11.0 torchvision==0.12.0"
      ],
      "metadata": {
        "id": "UWE496soSRqY"
      },
      "execution_count": null,
      "outputs": []
    },
    {
      "cell_type": "code",
      "source": [
        "!pip install mmdet==2.24.1 mmpose==0.25.1 opencv-python-headless==4.8.0.74 openmim==0.1.5 timm==0.5.4 torch==1.11.0 torchvision==0.12.0"
      ],
      "metadata": {
        "colab": {
          "base_uri": "https://localhost:8080/"
        },
        "id": "WsK96D5NZmBf",
        "outputId": "d3665b0b-2c63-4eb1-94d6-517dec07bb65"
      },
      "execution_count": 1,
      "outputs": [
        {
          "output_type": "stream",
          "name": "stdout",
          "text": [
            "Collecting mmdet==2.24.1\n",
            "  Downloading mmdet-2.24.1-py3-none-any.whl (1.4 MB)\n",
            "\u001b[2K     \u001b[90m━━━━━━━━━━━━━━━━━━━━━━━━━━━━━━━━━━━━━━━━\u001b[0m \u001b[32m1.4/1.4 MB\u001b[0m \u001b[31m9.0 MB/s\u001b[0m eta \u001b[36m0:00:00\u001b[0m\n",
            "\u001b[?25hCollecting mmpose==0.25.1\n",
            "  Downloading mmpose-0.25.1-py2.py3-none-any.whl (1.5 MB)\n",
            "\u001b[2K     \u001b[90m━━━━━━━━━━━━━━━━━━━━━━━━━━━━━━━━━━━━━━━━\u001b[0m \u001b[32m1.5/1.5 MB\u001b[0m \u001b[31m14.2 MB/s\u001b[0m eta \u001b[36m0:00:00\u001b[0m\n",
            "\u001b[?25hCollecting opencv-python-headless==4.8.0.74\n",
            "  Downloading opencv_python_headless-4.8.0.74-cp37-abi3-manylinux_2_17_x86_64.manylinux2014_x86_64.whl (49.1 MB)\n",
            "\u001b[2K     \u001b[90m━━━━━━━━━━━━━━━━━━━━━━━━━━━━━━━━━━━━━━━━\u001b[0m \u001b[32m49.1/49.1 MB\u001b[0m \u001b[31m3.7 MB/s\u001b[0m eta \u001b[36m0:00:00\u001b[0m\n",
            "\u001b[?25hCollecting openmim==0.1.5\n",
            "  Downloading openmim-0.1.5.tar.gz (35 kB)\n",
            "  Preparing metadata (setup.py) ... \u001b[?25l\u001b[?25hdone\n",
            "Collecting timm==0.5.4\n",
            "  Downloading timm-0.5.4-py3-none-any.whl (431 kB)\n",
            "\u001b[2K     \u001b[90m━━━━━━━━━━━━━━━━━━━━━━━━━━━━━━━━━━━━━━━━\u001b[0m \u001b[32m431.5/431.5 kB\u001b[0m \u001b[31m14.2 MB/s\u001b[0m eta \u001b[36m0:00:00\u001b[0m\n",
            "\u001b[?25hCollecting torch==1.11.0\n",
            "  Downloading torch-1.11.0-cp310-cp310-manylinux1_x86_64.whl (750.6 MB)\n",
            "\u001b[2K     \u001b[90m━━━━━━━━━━━━━━━━━━━━━━━━━━━━━━━━━━━━━━━━\u001b[0m \u001b[32m750.6/750.6 MB\u001b[0m \u001b[31m1.5 MB/s\u001b[0m eta \u001b[36m0:00:00\u001b[0m\n",
            "\u001b[?25hCollecting torchvision==0.12.0\n",
            "  Downloading torchvision-0.12.0-cp310-cp310-manylinux1_x86_64.whl (21.0 MB)\n",
            "\u001b[2K     \u001b[90m━━━━━━━━━━━━━━━━━━━━━━━━━━━━━━━━━━━━━━━━\u001b[0m \u001b[32m21.0/21.0 MB\u001b[0m \u001b[31m64.2 MB/s\u001b[0m eta \u001b[36m0:00:00\u001b[0m\n",
            "\u001b[?25hRequirement already satisfied: matplotlib in /usr/local/lib/python3.10/dist-packages (from mmdet==2.24.1) (3.7.1)\n",
            "Requirement already satisfied: numpy in /usr/local/lib/python3.10/dist-packages (from mmdet==2.24.1) (1.25.2)\n",
            "Requirement already satisfied: pycocotools in /usr/local/lib/python3.10/dist-packages (from mmdet==2.24.1) (2.0.8)\n",
            "Requirement already satisfied: six in /usr/local/lib/python3.10/dist-packages (from mmdet==2.24.1) (1.16.0)\n",
            "Collecting terminaltables (from mmdet==2.24.1)\n",
            "  Downloading terminaltables-3.1.10-py2.py3-none-any.whl (15 kB)\n",
            "Collecting chumpy (from mmpose==0.25.1)\n",
            "  Downloading chumpy-0.70.tar.gz (50 kB)\n",
            "\u001b[2K     \u001b[90m━━━━━━━━━━━━━━━━━━━━━━━━━━━━━━━━━━━━━━━━\u001b[0m \u001b[32m50.6/50.6 kB\u001b[0m \u001b[31m7.0 MB/s\u001b[0m eta \u001b[36m0:00:00\u001b[0m\n",
            "\u001b[?25h  Preparing metadata (setup.py) ... \u001b[?25l\u001b[?25hdone\n",
            "Collecting json-tricks (from mmpose==0.25.1)\n",
            "  Downloading json_tricks-3.17.3-py2.py3-none-any.whl (27 kB)\n",
            "Collecting munkres (from mmpose==0.25.1)\n",
            "  Downloading munkres-1.1.4-py2.py3-none-any.whl (7.0 kB)\n",
            "Requirement already satisfied: opencv-python in /usr/local/lib/python3.10/dist-packages (from mmpose==0.25.1) (4.8.0.76)\n",
            "Requirement already satisfied: pillow in /usr/local/lib/python3.10/dist-packages (from mmpose==0.25.1) (9.4.0)\n",
            "Requirement already satisfied: scipy in /usr/local/lib/python3.10/dist-packages (from mmpose==0.25.1) (1.11.4)\n",
            "Collecting xtcocotools>=1.8 (from mmpose==0.25.1)\n",
            "  Downloading xtcocotools-1.14.3-cp310-cp310-manylinux1_x86_64.whl (436 kB)\n",
            "\u001b[2K     \u001b[90m━━━━━━━━━━━━━━━━━━━━━━━━━━━━━━━━━━━━━━━━\u001b[0m \u001b[32m436.0/436.0 kB\u001b[0m \u001b[31m47.8 MB/s\u001b[0m eta \u001b[36m0:00:00\u001b[0m\n",
            "\u001b[?25hCollecting Click==7.1.2 (from openmim==0.1.5)\n",
            "  Downloading click-7.1.2-py2.py3-none-any.whl (82 kB)\n",
            "\u001b[2K     \u001b[90m━━━━━━━━━━━━━━━━━━━━━━━━━━━━━━━━━━━━━━━━\u001b[0m \u001b[32m82.8/82.8 kB\u001b[0m \u001b[31m9.2 MB/s\u001b[0m eta \u001b[36m0:00:00\u001b[0m\n",
            "\u001b[?25hCollecting colorama (from openmim==0.1.5)\n",
            "  Downloading colorama-0.4.6-py2.py3-none-any.whl (25 kB)\n",
            "Requirement already satisfied: requests in /usr/local/lib/python3.10/dist-packages (from openmim==0.1.5) (2.31.0)\n",
            "Collecting model-index (from openmim==0.1.5)\n",
            "  Downloading model_index-0.1.11-py3-none-any.whl (34 kB)\n",
            "Requirement already satisfied: pandas in /usr/local/lib/python3.10/dist-packages (from openmim==0.1.5) (2.0.3)\n",
            "Requirement already satisfied: tabulate in /usr/local/lib/python3.10/dist-packages (from openmim==0.1.5) (0.9.0)\n",
            "Requirement already satisfied: typing-extensions in /usr/local/lib/python3.10/dist-packages (from torch==1.11.0) (4.12.2)\n",
            "Requirement already satisfied: setuptools>=18.0 in /usr/local/lib/python3.10/dist-packages (from xtcocotools>=1.8->mmpose==0.25.1) (67.7.2)\n",
            "Requirement already satisfied: cython>=0.27.3 in /usr/local/lib/python3.10/dist-packages (from xtcocotools>=1.8->mmpose==0.25.1) (3.0.10)\n",
            "Requirement already satisfied: contourpy>=1.0.1 in /usr/local/lib/python3.10/dist-packages (from matplotlib->mmdet==2.24.1) (1.2.1)\n",
            "Requirement already satisfied: cycler>=0.10 in /usr/local/lib/python3.10/dist-packages (from matplotlib->mmdet==2.24.1) (0.12.1)\n",
            "Requirement already satisfied: fonttools>=4.22.0 in /usr/local/lib/python3.10/dist-packages (from matplotlib->mmdet==2.24.1) (4.53.0)\n",
            "Requirement already satisfied: kiwisolver>=1.0.1 in /usr/local/lib/python3.10/dist-packages (from matplotlib->mmdet==2.24.1) (1.4.5)\n",
            "Requirement already satisfied: packaging>=20.0 in /usr/local/lib/python3.10/dist-packages (from matplotlib->mmdet==2.24.1) (24.1)\n",
            "Requirement already satisfied: pyparsing>=2.3.1 in /usr/local/lib/python3.10/dist-packages (from matplotlib->mmdet==2.24.1) (3.1.2)\n",
            "Requirement already satisfied: python-dateutil>=2.7 in /usr/local/lib/python3.10/dist-packages (from matplotlib->mmdet==2.24.1) (2.8.2)\n",
            "Requirement already satisfied: pyyaml in /usr/local/lib/python3.10/dist-packages (from model-index->openmim==0.1.5) (6.0.1)\n",
            "Requirement already satisfied: markdown in /usr/local/lib/python3.10/dist-packages (from model-index->openmim==0.1.5) (3.6)\n",
            "Collecting ordered-set (from model-index->openmim==0.1.5)\n",
            "  Downloading ordered_set-4.1.0-py3-none-any.whl (7.6 kB)\n",
            "Requirement already satisfied: pytz>=2020.1 in /usr/local/lib/python3.10/dist-packages (from pandas->openmim==0.1.5) (2023.4)\n",
            "Requirement already satisfied: tzdata>=2022.1 in /usr/local/lib/python3.10/dist-packages (from pandas->openmim==0.1.5) (2024.1)\n",
            "Requirement already satisfied: charset-normalizer<4,>=2 in /usr/local/lib/python3.10/dist-packages (from requests->openmim==0.1.5) (3.3.2)\n",
            "Requirement already satisfied: idna<4,>=2.5 in /usr/local/lib/python3.10/dist-packages (from requests->openmim==0.1.5) (3.7)\n",
            "Requirement already satisfied: urllib3<3,>=1.21.1 in /usr/local/lib/python3.10/dist-packages (from requests->openmim==0.1.5) (2.0.7)\n",
            "Requirement already satisfied: certifi>=2017.4.17 in /usr/local/lib/python3.10/dist-packages (from requests->openmim==0.1.5) (2024.6.2)\n",
            "\u001b[33mWARNING: The candidate selected for download or install is a yanked version: 'opencv-python-headless' candidate (version 4.8.0.74 at https://files.pythonhosted.org/packages/76/02/f128517f3ade4bb5f71e2afd8461dba70e3f466ce745fa1fd1fade9ad1b7/opencv_python_headless-4.8.0.74-cp37-abi3-manylinux_2_17_x86_64.manylinux2014_x86_64.whl (from https://pypi.org/simple/opencv-python-headless/) (requires-python:>=3.6))\n",
            "Reason for being yanked: deprecated, use 4.8.0.76\u001b[0m\u001b[33m\n",
            "\u001b[0mBuilding wheels for collected packages: openmim, chumpy\n",
            "  Building wheel for openmim (setup.py) ... \u001b[?25l\u001b[?25hdone\n",
            "  Created wheel for openmim: filename=openmim-0.1.5-py2.py3-none-any.whl size=42472 sha256=91e5b849631912a811c33cf76bcc8550a9e54994043ea6facb372b75ff24e55f\n",
            "  Stored in directory: /root/.cache/pip/wheels/33/51/69/7d124df565cadec731be86337a2e147e024e8eba8fab493182\n",
            "  Building wheel for chumpy (setup.py) ... \u001b[?25l\u001b[?25hdone\n",
            "  Created wheel for chumpy: filename=chumpy-0.70-py3-none-any.whl size=58263 sha256=35dab7add6e83b06f64d807293ef7049a7f5e9495d16b7d8e1565ef3267d1499\n",
            "  Stored in directory: /root/.cache/pip/wheels/e0/c1/ef/29ba7be03653a29ef6f2c3e1956d6c4d8877f2b243af411db1\n",
            "Successfully built openmim chumpy\n",
            "Installing collected packages: munkres, json-tricks, torch, terminaltables, ordered-set, opencv-python-headless, colorama, Click, torchvision, model-index, chumpy, xtcocotools, timm, openmim, mmpose, mmdet\n",
            "  Attempting uninstall: torch\n",
            "    Found existing installation: torch 2.3.0+cu121\n",
            "    Uninstalling torch-2.3.0+cu121:\n",
            "      Successfully uninstalled torch-2.3.0+cu121\n",
            "  Attempting uninstall: opencv-python-headless\n",
            "    Found existing installation: opencv-python-headless 4.10.0.84\n",
            "    Uninstalling opencv-python-headless-4.10.0.84:\n",
            "      Successfully uninstalled opencv-python-headless-4.10.0.84\n",
            "  Attempting uninstall: Click\n",
            "    Found existing installation: click 8.1.7\n",
            "    Uninstalling click-8.1.7:\n",
            "      Successfully uninstalled click-8.1.7\n",
            "  Attempting uninstall: torchvision\n",
            "    Found existing installation: torchvision 0.18.0+cu121\n",
            "    Uninstalling torchvision-0.18.0+cu121:\n",
            "      Successfully uninstalled torchvision-0.18.0+cu121\n",
            "\u001b[31mERROR: pip's dependency resolver does not currently take into account all the packages that are installed. This behaviour is the source of the following dependency conflicts.\n",
            "flask 2.2.5 requires click>=8.0, but you have click 7.1.2 which is incompatible.\n",
            "dask 2023.8.1 requires click>=8.0, but you have click 7.1.2 which is incompatible.\n",
            "distributed 2023.8.1 requires click>=8.0, but you have click 7.1.2 which is incompatible.\n",
            "fiona 1.9.6 requires click~=8.0, but you have click 7.1.2 which is incompatible.\n",
            "pip-tools 6.13.0 requires click>=8, but you have click 7.1.2 which is incompatible.\n",
            "torchaudio 2.3.0+cu121 requires torch==2.3.0, but you have torch 1.11.0 which is incompatible.\n",
            "torchtext 0.18.0 requires torch>=2.3.0, but you have torch 1.11.0 which is incompatible.\n",
            "typer 0.12.3 requires click>=8.0.0, but you have click 7.1.2 which is incompatible.\u001b[0m\u001b[31m\n",
            "\u001b[0mSuccessfully installed Click-7.1.2 chumpy-0.70 colorama-0.4.6 json-tricks-3.17.3 mmdet-2.24.1 mmpose-0.25.1 model-index-0.1.11 munkres-1.1.4 opencv-python-headless-4.8.0.74 openmim-0.1.5 ordered-set-4.1.0 terminaltables-3.1.10 timm-0.5.4 torch-1.11.0 torchvision-0.12.0 xtcocotools-1.14.3\n"
          ]
        }
      ]
    },
    {
      "cell_type": "code",
      "source": [],
      "metadata": {
        "id": "scaOnGx7CEl6"
      },
      "execution_count": null,
      "outputs": []
    },
    {
      "cell_type": "code",
      "source": [
        "!pip install mmdet mmpose opencv-python-headless openmim timm torch torchvision"
      ],
      "metadata": {
        "colab": {
          "base_uri": "https://localhost:8080/"
        },
        "outputId": "f9f9d3f8-66f3-4e8a-e1cf-9ef198290f2e",
        "id": "KSzujOvjCFGU"
      },
      "execution_count": 5,
      "outputs": [
        {
          "output_type": "stream",
          "name": "stdout",
          "text": [
            "Requirement already satisfied: mmdet in /usr/local/lib/python3.10/dist-packages (2.24.1)\n",
            "Requirement already satisfied: mmpose in /usr/local/lib/python3.10/dist-packages (0.25.1)\n",
            "Requirement already satisfied: opencv-python-headless in /usr/local/lib/python3.10/dist-packages (4.8.0.74)\n",
            "Requirement already satisfied: openmim in /usr/local/lib/python3.10/dist-packages (0.1.5)\n",
            "Requirement already satisfied: timm in /usr/local/lib/python3.10/dist-packages (0.5.4)\n",
            "Requirement already satisfied: torch in /usr/local/lib/python3.10/dist-packages (1.11.0)\n",
            "Requirement already satisfied: torchvision in /usr/local/lib/python3.10/dist-packages (0.12.0)\n",
            "Requirement already satisfied: matplotlib in /usr/local/lib/python3.10/dist-packages (from mmdet) (3.7.1)\n",
            "Requirement already satisfied: numpy in /usr/local/lib/python3.10/dist-packages (from mmdet) (1.25.2)\n",
            "Requirement already satisfied: pycocotools in /usr/local/lib/python3.10/dist-packages (from mmdet) (2.0.8)\n",
            "Requirement already satisfied: six in /usr/local/lib/python3.10/dist-packages (from mmdet) (1.16.0)\n",
            "Requirement already satisfied: terminaltables in /usr/local/lib/python3.10/dist-packages (from mmdet) (3.1.10)\n",
            "Requirement already satisfied: chumpy in /usr/local/lib/python3.10/dist-packages (from mmpose) (0.70)\n",
            "Requirement already satisfied: json-tricks in /usr/local/lib/python3.10/dist-packages (from mmpose) (3.17.3)\n",
            "Requirement already satisfied: munkres in /usr/local/lib/python3.10/dist-packages (from mmpose) (1.1.4)\n",
            "Requirement already satisfied: opencv-python in /usr/local/lib/python3.10/dist-packages (from mmpose) (4.8.0.76)\n",
            "Requirement already satisfied: pillow in /usr/local/lib/python3.10/dist-packages (from mmpose) (9.4.0)\n",
            "Requirement already satisfied: scipy in /usr/local/lib/python3.10/dist-packages (from mmpose) (1.11.4)\n",
            "Requirement already satisfied: xtcocotools>=1.8 in /usr/local/lib/python3.10/dist-packages (from mmpose) (1.14.3)\n",
            "Requirement already satisfied: Click==7.1.2 in /usr/local/lib/python3.10/dist-packages (from openmim) (7.1.2)\n",
            "Requirement already satisfied: colorama in /usr/local/lib/python3.10/dist-packages (from openmim) (0.4.6)\n",
            "Requirement already satisfied: requests in /usr/local/lib/python3.10/dist-packages (from openmim) (2.31.0)\n",
            "Requirement already satisfied: model-index in /usr/local/lib/python3.10/dist-packages (from openmim) (0.1.11)\n",
            "Requirement already satisfied: pandas in /usr/local/lib/python3.10/dist-packages (from openmim) (2.0.3)\n",
            "Requirement already satisfied: tabulate in /usr/local/lib/python3.10/dist-packages (from openmim) (0.9.0)\n",
            "Requirement already satisfied: typing-extensions in /usr/local/lib/python3.10/dist-packages (from torch) (4.12.2)\n",
            "Requirement already satisfied: setuptools>=18.0 in /usr/local/lib/python3.10/dist-packages (from xtcocotools>=1.8->mmpose) (67.7.2)\n",
            "Requirement already satisfied: cython>=0.27.3 in /usr/local/lib/python3.10/dist-packages (from xtcocotools>=1.8->mmpose) (3.0.10)\n",
            "Requirement already satisfied: contourpy>=1.0.1 in /usr/local/lib/python3.10/dist-packages (from matplotlib->mmdet) (1.2.1)\n",
            "Requirement already satisfied: cycler>=0.10 in /usr/local/lib/python3.10/dist-packages (from matplotlib->mmdet) (0.12.1)\n",
            "Requirement already satisfied: fonttools>=4.22.0 in /usr/local/lib/python3.10/dist-packages (from matplotlib->mmdet) (4.53.0)\n",
            "Requirement already satisfied: kiwisolver>=1.0.1 in /usr/local/lib/python3.10/dist-packages (from matplotlib->mmdet) (1.4.5)\n",
            "Requirement already satisfied: packaging>=20.0 in /usr/local/lib/python3.10/dist-packages (from matplotlib->mmdet) (24.1)\n",
            "Requirement already satisfied: pyparsing>=2.3.1 in /usr/local/lib/python3.10/dist-packages (from matplotlib->mmdet) (3.1.2)\n",
            "Requirement already satisfied: python-dateutil>=2.7 in /usr/local/lib/python3.10/dist-packages (from matplotlib->mmdet) (2.8.2)\n",
            "Requirement already satisfied: pyyaml in /usr/local/lib/python3.10/dist-packages (from model-index->openmim) (6.0.1)\n",
            "Requirement already satisfied: markdown in /usr/local/lib/python3.10/dist-packages (from model-index->openmim) (3.6)\n",
            "Requirement already satisfied: ordered-set in /usr/local/lib/python3.10/dist-packages (from model-index->openmim) (4.1.0)\n",
            "Requirement already satisfied: pytz>=2020.1 in /usr/local/lib/python3.10/dist-packages (from pandas->openmim) (2023.4)\n",
            "Requirement already satisfied: tzdata>=2022.1 in /usr/local/lib/python3.10/dist-packages (from pandas->openmim) (2024.1)\n",
            "Requirement already satisfied: charset-normalizer<4,>=2 in /usr/local/lib/python3.10/dist-packages (from requests->openmim) (3.3.2)\n",
            "Requirement already satisfied: idna<4,>=2.5 in /usr/local/lib/python3.10/dist-packages (from requests->openmim) (3.7)\n",
            "Requirement already satisfied: urllib3<3,>=1.21.1 in /usr/local/lib/python3.10/dist-packages (from requests->openmim) (2.0.7)\n",
            "Requirement already satisfied: certifi>=2017.4.17 in /usr/local/lib/python3.10/dist-packages (from requests->openmim) (2024.6.2)\n"
          ]
        }
      ]
    },
    {
      "cell_type": "code",
      "source": [
        "!mim install mmcv-full==1.5.0"
      ],
      "metadata": {
        "colab": {
          "base_uri": "https://localhost:8080/"
        },
        "id": "ECQWK2uVcvo3",
        "outputId": "ae7f38e4-f609-4837-8e62-642ead049be8"
      },
      "execution_count": 6,
      "outputs": [
        {
          "output_type": "stream",
          "name": "stdout",
          "text": [
            "/usr/local/lib/python3.10/dist-packages/_distutils_hack/__init__.py:33: UserWarning: Setuptools is replacing distutils.\n",
            "  warnings.warn(\"Setuptools is replacing distutils.\")\n",
            "\u001b[33mmmcv-full==1.5.0 existed.\u001b[0m\n"
          ]
        }
      ]
    },
    {
      "cell_type": "code",
      "source": [
        "!git clone https://github.com/ViTAE-Transformer/ViTPose.git"
      ],
      "metadata": {
        "colab": {
          "base_uri": "https://localhost:8080/"
        },
        "id": "S9gRxYZcmBS9",
        "outputId": "cf6b51f9-3a41-44c6-ca37-bc8b7f370fe9"
      },
      "execution_count": 3,
      "outputs": [
        {
          "output_type": "stream",
          "name": "stdout",
          "text": [
            "Cloning into 'ViTPose'...\n",
            "remote: Enumerating objects: 1859, done.\u001b[K\n",
            "remote: Counting objects: 100% (1041/1041), done.\u001b[K\n",
            "remote: Compressing objects: 100% (316/316), done.\u001b[K\n",
            "remote: Total 1859 (delta 794), reused 725 (delta 725), pack-reused 818\u001b[K\n",
            "Receiving objects: 100% (1859/1859), 10.75 MiB | 30.31 MiB/s, done.\n",
            "Resolving deltas: 100% (958/958), done.\n"
          ]
        }
      ]
    },
    {
      "cell_type": "code",
      "source": [
        "!git clone https://github.com/open-mmlab/mmdetection.git\n",
        "%cd /content/mmdetection"
      ],
      "metadata": {
        "colab": {
          "base_uri": "https://localhost:8080/"
        },
        "id": "OhVH2OsppkA9",
        "outputId": "63548f92-b285-4d45-c70c-6a98f8e3a789"
      },
      "execution_count": 6,
      "outputs": [
        {
          "output_type": "stream",
          "name": "stdout",
          "text": [
            "Cloning into 'mmdetection'...\n",
            "remote: Enumerating objects: 38019, done.\u001b[K\n",
            "remote: Total 38019 (delta 0), reused 0 (delta 0), pack-reused 38019\u001b[K\n",
            "Receiving objects: 100% (38019/38019), 63.25 MiB | 26.26 MiB/s, done.\n",
            "Resolving deltas: 100% (26222/26222), done.\n",
            "/content/mmdetection\n"
          ]
        }
      ]
    },
    {
      "cell_type": "code",
      "source": [
        "from mmcv import Config\n",
        "\n",
        "# 設定ファイルの読み込み\n",
        "config_path = \"/content/yolox_tiny_8x8_300e_coco.py\"\n",
        "cfg = Config.fromfile(config_path)\n",
        "\n",
        "# `model`キーが存在するか確認\n",
        "if 'model' in cfg:\n",
        "    print(\"model key exists in the config.\")\n",
        "else:\n",
        "    print(\"model key does not exist in the config.\")\n"
      ],
      "metadata": {
        "colab": {
          "base_uri": "https://localhost:8080/"
        },
        "id": "lyMrZaafE0q9",
        "outputId": "89645fc8-801d-4ada-bed1-c9dca9f46482"
      },
      "execution_count": 11,
      "outputs": [
        {
          "output_type": "stream",
          "name": "stdout",
          "text": [
            "model key does not exist in the config.\n"
          ]
        }
      ]
    },
    {
      "cell_type": "code",
      "source": [
        "!mim search mmdet --model \"yolox\""
      ],
      "metadata": {
        "colab": {
          "base_uri": "https://localhost:8080/"
        },
        "id": "2aQ0LQmHt096",
        "outputId": "a51cd97b-a660-475d-f63c-fba001a4b08d"
      },
      "execution_count": 3,
      "outputs": [
        {
          "output_type": "stream",
          "name": "stdout",
          "text": [
            "/usr/local/lib/python3.10/dist-packages/_distutils_hack/__init__.py:33: UserWarning: Setuptools is replacing distutils.\n",
            "  warnings.warn(\"Setuptools is replacing distutils.\")\n",
            "--------------------------------------------------------------------------------\n",
            "config id: yolox_s_8x8_300e_coco\n",
            "architecture                                            cspdarknet,pafpn\n",
            "coco/box_ap                                             40.5\n",
            "config                                                  configs/yolox/yolox_s...\n",
            "epochs                                                  300\n",
            "model                                                   yolox\n",
            "paper                                                   URL,Title\n",
            "readme                                                  configs/yolox/README.md\n",
            "training_data                                           coco\n",
            "training_memory(GB)                                     7.6\n",
            "training_resources                                      8x titanxp gpus\n",
            "training_techniques                                     sgd with nesterov,wei...\n",
            "weight                                                  https://download.open...\n",
            "--------------------------------------------------------------------------------\n",
            "config id: yolox_l_8x8_300e_coco\n",
            "architecture                                            cspdarknet,pafpn\n",
            "coco/box_ap                                             49.4\n",
            "config                                                  configs/yolox/yolox_l...\n",
            "epochs                                                  300\n",
            "model                                                   yolox\n",
            "paper                                                   URL,Title\n",
            "readme                                                  configs/yolox/README.md\n",
            "training_data                                           coco\n",
            "training_memory(GB)                                     19.9\n",
            "training_resources                                      8x titanxp gpus\n",
            "training_techniques                                     sgd with nesterov,wei...\n",
            "weight                                                  https://download.open...\n",
            "--------------------------------------------------------------------------------\n",
            "config id: yolox_x_8x8_300e_coco\n",
            "architecture                                            cspdarknet,pafpn\n",
            "coco/box_ap                                             50.9\n",
            "config                                                  configs/yolox/yolox_x...\n",
            "epochs                                                  300\n",
            "model                                                   yolox\n",
            "paper                                                   URL,Title\n",
            "readme                                                  configs/yolox/README.md\n",
            "training_data                                           coco\n",
            "training_memory(GB)                                     28.1\n",
            "training_resources                                      8x titanxp gpus\n",
            "training_techniques                                     sgd with nesterov,wei...\n",
            "weight                                                  https://download.open...\n",
            "--------------------------------------------------------------------------------\n",
            "config id: yolox_tiny_8x8_300e_coco\n",
            "architecture                                            cspdarknet,pafpn\n",
            "coco/box_ap                                             32.0\n",
            "config                                                  configs/yolox/yolox_t...\n",
            "epochs                                                  300\n",
            "model                                                   yolox\n",
            "paper                                                   URL,Title\n",
            "readme                                                  configs/yolox/README.md\n",
            "training_data                                           coco\n",
            "training_memory(GB)                                     3.5\n",
            "training_resources                                      8x titanxp gpus\n",
            "training_techniques                                     sgd with nesterov,wei...\n",
            "weight                                                  https://download.open...\n",
            "\n"
          ]
        }
      ]
    },
    {
      "cell_type": "code",
      "source": [
        "!mim download mmdet --config yolox_tiny_8x8_300e_coco --dest /content"
      ],
      "metadata": {
        "colab": {
          "base_uri": "https://localhost:8080/"
        },
        "id": "rvOs3uSStHGx",
        "outputId": "a0d3f7f2-ed0e-4be8-a743-2b594c8d6345"
      },
      "execution_count": 4,
      "outputs": [
        {
          "output_type": "stream",
          "name": "stdout",
          "text": [
            "/usr/local/lib/python3.10/dist-packages/_distutils_hack/__init__.py:33: UserWarning: Setuptools is replacing distutils.\n",
            "  warnings.warn(\"Setuptools is replacing distutils.\")\n",
            "No CUDA runtime is found, using CUDA_HOME='/usr/local/cuda'\n",
            "processing yolox_tiny_8x8_300e_coco...\n",
            "\u001b[?25l  [####################################]  100%          \u001b[?25h\n",
            "\u001b[32mSuccessfully downloaded yolox_tiny_8x8_300e_coco_20211124_171234-b4047906.pth to /content\u001b[0m\n",
            "Traceback (most recent call last):\n",
            "  File \"/usr/local/bin/mim\", line 8, in <module>\n",
            "    sys.exit(cli())\n",
            "  File \"/usr/local/lib/python3.10/dist-packages/click/core.py\", line 829, in __call__\n",
            "    return self.main(*args, **kwargs)\n",
            "  File \"/usr/local/lib/python3.10/dist-packages/click/core.py\", line 782, in main\n",
            "    rv = self.invoke(ctx)\n",
            "  File \"/usr/local/lib/python3.10/dist-packages/click/core.py\", line 1259, in invoke\n",
            "    return _process_result(sub_ctx.command.invoke(sub_ctx))\n",
            "  File \"/usr/local/lib/python3.10/dist-packages/click/core.py\", line 1066, in invoke\n",
            "    return ctx.invoke(self.callback, **ctx.params)\n",
            "  File \"/usr/local/lib/python3.10/dist-packages/click/core.py\", line 610, in invoke\n",
            "    return callback(*args, **kwargs)\n",
            "  File \"/usr/local/lib/python3.10/dist-packages/mim/commands/download.py\", line 43, in cli\n",
            "    download(package, configs, dest_root)\n",
            "  File \"/usr/local/lib/python3.10/dist-packages/mim/commands/download.py\", line 113, in download\n",
            "    config_obj.dump(saved_config_path)\n",
            "  File \"/usr/local/lib/python3.10/dist-packages/mmcv/utils/config.py\", line 564, in dump\n",
            "    f.write(self.pretty_text)\n",
            "  File \"/usr/local/lib/python3.10/dist-packages/mmcv/utils/config.py\", line 502, in pretty_text\n",
            "    text, _ = FormatCode(text, style_config=yapf_style, verify=True)\n",
            "TypeError: FormatCode() got an unexpected keyword argument 'verify'\n"
          ]
        }
      ]
    },
    {
      "cell_type": "code",
      "source": [
        "import os\n",
        "import torch\n",
        "import numpy as np\n",
        "import matplotlib.pyplot as plt\n",
        "from google.colab import files\n",
        "from huggingface_hub import hf_hub_download\n",
        "from mmdet.apis import inference_detector, init_detector\n",
        "from mmpose.apis import inference_top_down_pose_model, init_pose_model, process_mmdet_results, vis_pose_result\n",
        "import urllib.request\n",
        "\n",
        "# 物体検出モデルの初期化\n",
        "class DetModel:\n",
        "    MODEL_DICT = {\n",
        "        \"YOLOX-l\": {\n",
        "            \"config\": \"https://github.com/open-mmlab/mmdetection/blob/master/configs/yolox/yolox_l_8x8_300e_coco.py\",\n",
        "            \"model\": \"https://download.openmmlab.com/mmdetection/v2.0/yolox/yolox_l_8x8_300e_coco/yolox_l_8x8_300e_coco_20211126_140236-d3bd2b23.pth\",\n",
        "        },\n",
        "    }\n",
        "\n",
        "    def __init__(self):\n",
        "        self.device = torch.device(\"cuda:0\" if torch.cuda.is_available() else \"cpu\")\n",
        "        self.model_name = \"YOLOX-l\"\n",
        "        self.model = self._load_model(self.model_name)\n",
        "\n",
        "    def _load_model(self, name: str):\n",
        "        # d = self.MODEL_DICT[name]\n",
        "        # config_url = d[\"config\"]\n",
        "        # config_path = \"/content/yolox_l_8x8_300e_coco.py\"\n",
        "        # model_url = d[\"model\"]\n",
        "        # model_path = \"/content/yolox_l_8x8_300e_coco_20211126_140236-d3bd2b23.pth\"\n",
        "        # urllib.request.urlretrieve(config_url, config_path)\n",
        "        # urllib.request.urlretrieve(model_url, model_path)\n",
        "        config_path = \"/content/yolox_tiny_8x8_300e_coco.py\"\n",
        "        model_path = \"/content/yolox_tiny_8x8_300e_coco_20211124_171234-b4047906.pth\"\n",
        "\n",
        "        return init_detector(config_path, model_path)\n",
        "\n",
        "    def detect(self, image: np.ndarray):\n",
        "        image = image[:, :, ::-1]  # RGB -> BGR\n",
        "        out = inference_detector(self.model, image)\n",
        "        return out\n",
        "\n",
        "    def visualize_detection_results(self, image: np.ndarray, detection_results: list, score_threshold: float = 0.3):\n",
        "        person_det = [detection_results[0]] + [np.array([]).reshape(0, 5)] * 79\n",
        "        image = image[:, :, ::-1]  # RGB -> BGR\n",
        "        vis = self.model.show_result(\n",
        "            image, person_det, score_thr=score_threshold, bbox_color=None, text_color=(200, 200, 200), mask_color=None\n",
        "        )\n",
        "        return vis[:, :, ::-1]  # BGR -> RGB\n",
        "\n",
        "\n",
        "\n",
        "det_model = DetModel()"
      ],
      "metadata": {
        "colab": {
          "base_uri": "https://localhost:8080/",
          "height": 829
        },
        "id": "c2kPLHc8mFki",
        "outputId": "b60dace2-958a-4fe2-b8b8-eb1f9d25420d"
      },
      "execution_count": 8,
      "outputs": [
        {
          "output_type": "error",
          "ename": "AttributeError",
          "evalue": "'ConfigDict' object has no attribute 'model'",
          "traceback": [
            "\u001b[0;31m---------------------------------------------------------------------------\u001b[0m",
            "\u001b[0;31mAttributeError\u001b[0m                            Traceback (most recent call last)",
            "\u001b[0;32m<ipython-input-8-814a3aa6f2e0>\u001b[0m in \u001b[0;36m<cell line: 53>\u001b[0;34m()\u001b[0m\n\u001b[1;32m     51\u001b[0m \u001b[0;34m\u001b[0m\u001b[0m\n\u001b[1;32m     52\u001b[0m \u001b[0;34m\u001b[0m\u001b[0m\n\u001b[0;32m---> 53\u001b[0;31m \u001b[0mdet_model\u001b[0m \u001b[0;34m=\u001b[0m \u001b[0mDetModel\u001b[0m\u001b[0;34m(\u001b[0m\u001b[0;34m)\u001b[0m\u001b[0;34m\u001b[0m\u001b[0;34m\u001b[0m\u001b[0m\n\u001b[0m",
            "\u001b[0;32m<ipython-input-8-814a3aa6f2e0>\u001b[0m in \u001b[0;36m__init__\u001b[0;34m(self)\u001b[0m\n\u001b[1;32m     21\u001b[0m         \u001b[0mself\u001b[0m\u001b[0;34m.\u001b[0m\u001b[0mdevice\u001b[0m \u001b[0;34m=\u001b[0m \u001b[0mtorch\u001b[0m\u001b[0;34m.\u001b[0m\u001b[0mdevice\u001b[0m\u001b[0;34m(\u001b[0m\u001b[0;34m\"cuda:0\"\u001b[0m \u001b[0;32mif\u001b[0m \u001b[0mtorch\u001b[0m\u001b[0;34m.\u001b[0m\u001b[0mcuda\u001b[0m\u001b[0;34m.\u001b[0m\u001b[0mis_available\u001b[0m\u001b[0;34m(\u001b[0m\u001b[0;34m)\u001b[0m \u001b[0;32melse\u001b[0m \u001b[0;34m\"cpu\"\u001b[0m\u001b[0;34m)\u001b[0m\u001b[0;34m\u001b[0m\u001b[0;34m\u001b[0m\u001b[0m\n\u001b[1;32m     22\u001b[0m         \u001b[0mself\u001b[0m\u001b[0;34m.\u001b[0m\u001b[0mmodel_name\u001b[0m \u001b[0;34m=\u001b[0m \u001b[0;34m\"YOLOX-l\"\u001b[0m\u001b[0;34m\u001b[0m\u001b[0;34m\u001b[0m\u001b[0m\n\u001b[0;32m---> 23\u001b[0;31m         \u001b[0mself\u001b[0m\u001b[0;34m.\u001b[0m\u001b[0mmodel\u001b[0m \u001b[0;34m=\u001b[0m \u001b[0mself\u001b[0m\u001b[0;34m.\u001b[0m\u001b[0m_load_model\u001b[0m\u001b[0;34m(\u001b[0m\u001b[0mself\u001b[0m\u001b[0;34m.\u001b[0m\u001b[0mmodel_name\u001b[0m\u001b[0;34m)\u001b[0m\u001b[0;34m\u001b[0m\u001b[0;34m\u001b[0m\u001b[0m\n\u001b[0m\u001b[1;32m     24\u001b[0m \u001b[0;34m\u001b[0m\u001b[0m\n\u001b[1;32m     25\u001b[0m     \u001b[0;32mdef\u001b[0m \u001b[0m_load_model\u001b[0m\u001b[0;34m(\u001b[0m\u001b[0mself\u001b[0m\u001b[0;34m,\u001b[0m \u001b[0mname\u001b[0m\u001b[0;34m:\u001b[0m \u001b[0mstr\u001b[0m\u001b[0;34m)\u001b[0m\u001b[0;34m:\u001b[0m\u001b[0;34m\u001b[0m\u001b[0;34m\u001b[0m\u001b[0m\n",
            "\u001b[0;32m<ipython-input-8-814a3aa6f2e0>\u001b[0m in \u001b[0;36m_load_model\u001b[0;34m(self, name)\u001b[0m\n\u001b[1;32m     34\u001b[0m         \u001b[0mmodel_path\u001b[0m \u001b[0;34m=\u001b[0m \u001b[0;34m\"/content/yolox_tiny_8x8_300e_coco_20211124_171234-b4047906.pth\"\u001b[0m\u001b[0;34m\u001b[0m\u001b[0;34m\u001b[0m\u001b[0m\n\u001b[1;32m     35\u001b[0m \u001b[0;34m\u001b[0m\u001b[0m\n\u001b[0;32m---> 36\u001b[0;31m         \u001b[0;32mreturn\u001b[0m \u001b[0minit_detector\u001b[0m\u001b[0;34m(\u001b[0m\u001b[0mconfig_path\u001b[0m\u001b[0;34m,\u001b[0m \u001b[0mmodel_path\u001b[0m\u001b[0;34m)\u001b[0m\u001b[0;34m\u001b[0m\u001b[0;34m\u001b[0m\u001b[0m\n\u001b[0m\u001b[1;32m     37\u001b[0m \u001b[0;34m\u001b[0m\u001b[0m\n\u001b[1;32m     38\u001b[0m     \u001b[0;32mdef\u001b[0m \u001b[0mdetect\u001b[0m\u001b[0;34m(\u001b[0m\u001b[0mself\u001b[0m\u001b[0;34m,\u001b[0m \u001b[0mimage\u001b[0m\u001b[0;34m:\u001b[0m \u001b[0mnp\u001b[0m\u001b[0;34m.\u001b[0m\u001b[0mndarray\u001b[0m\u001b[0;34m)\u001b[0m\u001b[0;34m:\u001b[0m\u001b[0;34m\u001b[0m\u001b[0;34m\u001b[0m\u001b[0m\n",
            "\u001b[0;32m/usr/local/lib/python3.10/dist-packages/mmdet/apis/inference.py\u001b[0m in \u001b[0;36minit_detector\u001b[0;34m(config, checkpoint, device, cfg_options)\u001b[0m\n\u001b[1;32m     37\u001b[0m     \u001b[0;32mif\u001b[0m \u001b[0mcfg_options\u001b[0m \u001b[0;32mis\u001b[0m \u001b[0;32mnot\u001b[0m \u001b[0;32mNone\u001b[0m\u001b[0;34m:\u001b[0m\u001b[0;34m\u001b[0m\u001b[0;34m\u001b[0m\u001b[0m\n\u001b[1;32m     38\u001b[0m         \u001b[0mconfig\u001b[0m\u001b[0;34m.\u001b[0m\u001b[0mmerge_from_dict\u001b[0m\u001b[0;34m(\u001b[0m\u001b[0mcfg_options\u001b[0m\u001b[0;34m)\u001b[0m\u001b[0;34m\u001b[0m\u001b[0;34m\u001b[0m\u001b[0m\n\u001b[0;32m---> 39\u001b[0;31m     \u001b[0;32mif\u001b[0m \u001b[0;34m'pretrained'\u001b[0m \u001b[0;32min\u001b[0m \u001b[0mconfig\u001b[0m\u001b[0;34m.\u001b[0m\u001b[0mmodel\u001b[0m\u001b[0;34m:\u001b[0m\u001b[0;34m\u001b[0m\u001b[0;34m\u001b[0m\u001b[0m\n\u001b[0m\u001b[1;32m     40\u001b[0m         \u001b[0mconfig\u001b[0m\u001b[0;34m.\u001b[0m\u001b[0mmodel\u001b[0m\u001b[0;34m.\u001b[0m\u001b[0mpretrained\u001b[0m \u001b[0;34m=\u001b[0m \u001b[0;32mNone\u001b[0m\u001b[0;34m\u001b[0m\u001b[0;34m\u001b[0m\u001b[0m\n\u001b[1;32m     41\u001b[0m     \u001b[0;32melif\u001b[0m \u001b[0;34m'init_cfg'\u001b[0m \u001b[0;32min\u001b[0m \u001b[0mconfig\u001b[0m\u001b[0;34m.\u001b[0m\u001b[0mmodel\u001b[0m\u001b[0;34m.\u001b[0m\u001b[0mbackbone\u001b[0m\u001b[0;34m:\u001b[0m\u001b[0;34m\u001b[0m\u001b[0;34m\u001b[0m\u001b[0m\n",
            "\u001b[0;32m/usr/local/lib/python3.10/dist-packages/mmcv/utils/config.py\u001b[0m in \u001b[0;36m__getattr__\u001b[0;34m(self, name)\u001b[0m\n\u001b[1;32m    511\u001b[0m \u001b[0;34m\u001b[0m\u001b[0m\n\u001b[1;32m    512\u001b[0m     \u001b[0;32mdef\u001b[0m \u001b[0m__getattr__\u001b[0m\u001b[0;34m(\u001b[0m\u001b[0mself\u001b[0m\u001b[0;34m,\u001b[0m \u001b[0mname\u001b[0m\u001b[0;34m)\u001b[0m\u001b[0;34m:\u001b[0m\u001b[0;34m\u001b[0m\u001b[0;34m\u001b[0m\u001b[0m\n\u001b[0;32m--> 513\u001b[0;31m         \u001b[0;32mreturn\u001b[0m \u001b[0mgetattr\u001b[0m\u001b[0;34m(\u001b[0m\u001b[0mself\u001b[0m\u001b[0;34m.\u001b[0m\u001b[0m_cfg_dict\u001b[0m\u001b[0;34m,\u001b[0m \u001b[0mname\u001b[0m\u001b[0;34m)\u001b[0m\u001b[0;34m\u001b[0m\u001b[0;34m\u001b[0m\u001b[0m\n\u001b[0m\u001b[1;32m    514\u001b[0m \u001b[0;34m\u001b[0m\u001b[0m\n\u001b[1;32m    515\u001b[0m     \u001b[0;32mdef\u001b[0m \u001b[0m__getitem__\u001b[0m\u001b[0;34m(\u001b[0m\u001b[0mself\u001b[0m\u001b[0;34m,\u001b[0m \u001b[0mname\u001b[0m\u001b[0;34m)\u001b[0m\u001b[0;34m:\u001b[0m\u001b[0;34m\u001b[0m\u001b[0;34m\u001b[0m\u001b[0m\n",
            "\u001b[0;32m/usr/local/lib/python3.10/dist-packages/mmcv/utils/config.py\u001b[0m in \u001b[0;36m__getattr__\u001b[0;34m(self, name)\u001b[0m\n\u001b[1;32m     47\u001b[0m         \u001b[0;32melse\u001b[0m\u001b[0;34m:\u001b[0m\u001b[0;34m\u001b[0m\u001b[0;34m\u001b[0m\u001b[0m\n\u001b[1;32m     48\u001b[0m             \u001b[0;32mreturn\u001b[0m \u001b[0mvalue\u001b[0m\u001b[0;34m\u001b[0m\u001b[0;34m\u001b[0m\u001b[0m\n\u001b[0;32m---> 49\u001b[0;31m         \u001b[0;32mraise\u001b[0m \u001b[0mex\u001b[0m\u001b[0;34m\u001b[0m\u001b[0;34m\u001b[0m\u001b[0m\n\u001b[0m\u001b[1;32m     50\u001b[0m \u001b[0;34m\u001b[0m\u001b[0m\n\u001b[1;32m     51\u001b[0m \u001b[0;34m\u001b[0m\u001b[0m\n",
            "\u001b[0;31mAttributeError\u001b[0m: 'ConfigDict' object has no attribute 'model'"
          ]
        }
      ]
    },
    {
      "cell_type": "code",
      "source": [
        "# 姿勢推定モデルの初期化\n",
        "class PoseModel:\n",
        "    MODEL_DICT = {\n",
        "        \"ViTPose-B (single-task train)\": {\n",
        "            \"config\": \"ViTPose/configs/body/2d_kpt_sview_rgb_img/topdown_heatmap/coco/ViTPose_base_coco_256x192.py\",\n",
        "            \"model\": \"models/vitpose-b.pth\",\n",
        "        },\n",
        "        \"ViTPose-L (single-task train)\": {\n",
        "            \"config\": \"ViTPose/configs/body/2d_kpt_sview_rgb_img/topdown_heatmap/coco/ViTPose_large_coco_256x192.py\",\n",
        "            \"model\": \"models/vitpose-l.pth\",\n",
        "        },\n",
        "        \"ViTPose-B (multi-task train, COCO)\": {\n",
        "            \"config\": \"ViTPose/configs/body/2d_kpt_sview_rgb_img/topdown_heatmap/coco/ViTPose_base_coco_256x192.py\",\n",
        "            \"model\": \"models/vitpose-b-multi-coco.pth\",\n",
        "        },\n",
        "        \"ViTPose-L (multi-task train, COCO)\": {\n",
        "            \"config\": \"ViTPose/configs/body/2d_kpt_sview_rgb_img/topdown_heatmap/coco/ViTPose_large_coco_256x192.py\",\n",
        "            \"model\": \"models/vitpose-l-multi-coco.pth\",\n",
        "        },\n",
        "    }\n",
        "\n",
        "    def __init__(self):\n",
        "        self.device = torch.device(\"cuda:0\" if torch.cuda.is_available() else \"cpu\")\n",
        "        self.model_name = \"ViTPose-B (single-task train)\"\n",
        "        self.model = self._load_model(self.model_name)\n",
        "\n",
        "    def _load_model(self, name: str):\n",
        "        d = self.MODEL_DICT[name]\n",
        "        ckpt_path = hf_hub_download(\"public-data/ViTPose\", d[\"model\"])\n",
        "        config_path = d[\"config\"]\n",
        "        model = init_pose_model(config_path, ckpt_path, device=self.device)\n",
        "        return model\n",
        "\n",
        "    def predict_pose(self, image: np.ndarray, det_results: list, box_score_threshold: float = 0.5):\n",
        "        image = image[:, :, ::-1]  # RGB -> BGR\n",
        "        person_results = process_mmdet_results(det_results, 1)\n",
        "        out, _ = inference_top_down_pose_model(\n",
        "            self.model, image, person_results=person_results, bbox_thr=box_score_threshold, format=\"xyxy\"\n",
        "        )\n",
        "        return out\n",
        "\n",
        "    def visualize_pose_results(self, image: np.ndarray, pose_results: list, kpt_score_threshold: float = 0.3, vis_dot_radius: int = 4, vis_line_thickness: int = 1):\n",
        "        image = image[:, :, ::-1]  # RGB -> BGR\n",
        "        vis = vis_pose_result(\n",
        "            self.model,\n",
        "            image,\n",
        "            pose_results,\n",
        "            kpt_score_thr=kpt_score_threshold,\n",
        "            radius=vis_dot_radius,\n",
        "            thickness=vis_line_thickness,\n",
        "        )\n",
        "        return vis[:, :, ::-1]  # BGR -> RGB\n",
        "\n",
        "pose_model = PoseModel()"
      ],
      "metadata": {
        "id": "hprwzYIapC2i"
      },
      "execution_count": null,
      "outputs": []
    },
    {
      "cell_type": "code",
      "source": [
        "import os\n",
        "import torch\n",
        "import numpy as np\n",
        "import matplotlib.pyplot as plt\n",
        "from google.colab import files\n",
        "from huggingface_hub import hf_hub_download\n",
        "from mmdet.apis import inference_detector, init_detector\n",
        "from mmpose.apis import inference_top_down_pose_model, init_pose_model, process_mmdet_results, vis_pose_result\n",
        "import urllib.request\n",
        "\n",
        "# # 物体検出モデルの初期化\n",
        "# class DetModel:\n",
        "#     MODEL_DICT = {\n",
        "#         \"YOLOX-l\": {\n",
        "#             \"config\": \"https://github.com/open-mmlab/mmdetection/blob/master/configs/yolox/yolox_l_8x8_300e_coco.py\",\n",
        "#             \"model\": \"https://download.openmmlab.com/mmdetection/v2.0/yolox/yolox_l_8x8_300e_coco/yolox_l_8x8_300e_coco_20211126_140236-d3bd2b23.pth\",\n",
        "#         },\n",
        "#     }\n",
        "\n",
        "#     def __init__(self):\n",
        "#         self.device = torch.device(\"cuda:0\" if torch.cuda.is_available() else \"cpu\")\n",
        "#         self.model_name = \"YOLOX-l\"\n",
        "#         self.model = self._load_model(self.model_name)\n",
        "\n",
        "#     def _load_model(self, name: str):\n",
        "#         d = self.MODEL_DICT[name]\n",
        "#         return init_detector(d[\"config\"], d[\"model\"], device=self.device)\n",
        "\n",
        "#     def detect(self, image: np.ndarray):\n",
        "#         image = image[:, :, ::-1]  # RGB -> BGR\n",
        "#         out = inference_detector(self.model, image)\n",
        "#         return out\n",
        "\n",
        "#     def visualize_detection_results(self, image: np.ndarray, detection_results: list, score_threshold: float = 0.3):\n",
        "#         person_det = [detection_results[0]] + [np.array([]).reshape(0, 5)] * 79\n",
        "#         image = image[:, :, ::-1]  # RGB -> BGR\n",
        "#         vis = self.model.show_result(\n",
        "#             image, person_det, score_thr=score_threshold, bbox_color=None, text_color=(200, 200, 200), mask_color=None\n",
        "#         )\n",
        "#         return vis[:, :, ::-1]  # BGR -> RGB\n",
        "\n",
        "# 姿勢推定モデルの初期化\n",
        "class PoseModel:\n",
        "    MODEL_DICT = {\n",
        "        \"ViTPose-B (single-task train)\": {\n",
        "            \"config\": \"https://raw.githubusercontent.com/ViTAE-Transformer/ViTPose/main/configs/body/2d_kpt_sview_rgb_img/topdown_heatmap/coco/ViTPose_base_coco_256x192.py\",\n",
        "            \"model\": \"models/vitpose-b.pth\",\n",
        "        },\n",
        "        \"ViTPose-L (single-task train)\": {\n",
        "            \"config\": \"ViTPose/configs/body/2d_kpt_sview_rgb_img/topdown_heatmap/coco/ViTPose_large_coco_256x192.py\",\n",
        "            \"model\": \"models/vitpose-l.pth\",\n",
        "        },\n",
        "        \"ViTPose-B (multi-task train, COCO)\": {\n",
        "            \"config\": \"ViTPose/configs/body/2d_kpt_sview_rgb_img/topdown_heatmap/coco/ViTPose_base_coco_256x192.py\",\n",
        "            \"model\": \"models/vitpose-b-multi-coco.pth\",\n",
        "        },\n",
        "        \"ViTPose-L (multi-task train, COCO)\": {\n",
        "            \"config\": \"ViTPose/configs/body/2d_kpt_sview_rgb_img/topdown_heatmap/coco/ViTPose_large_coco_256x192.py\",\n",
        "            \"model\": \"models/vitpose-l-multi-coco.pth\",\n",
        "        },\n",
        "    }\n",
        "\n",
        "    def __init__(self):\n",
        "        self.device = torch.device(\"cuda:0\" if torch.cuda.is_available() else \"cpu\")\n",
        "        self.model_name = \"ViTPose-B (single-task train)\"\n",
        "        self.model = self._load_model(self.model_name)\n",
        "\n",
        "    def _download_base_files(self):\n",
        "        base_files = {\n",
        "            \"_base_/default_runtime.py\": \"https://raw.githubusercontent.com/ViTAE-Transformer/ViTPose/main/configs/_base_/default_runtime.py\",\n",
        "            \"_base_/datasets/coco.py\": \"https://raw.githubusercontent.com/ViTAE-Transformer/ViTPose/main/configs/_base_/datasets/coco.py\"\n",
        "        }\n",
        "        for path, url in base_files.items():\n",
        "            os.makedirs(os.path.dirname(path), exist_ok=True)\n",
        "            urllib.request.urlretrieve(url, path)\n",
        "\n",
        "    def _load_model(self, name: str):\n",
        "        d = self.MODEL_DICT[name]\n",
        "        ckpt_path = hf_hub_download(\"public-data/ViTPose\", d[\"model\"])\n",
        "        config_url = d[\"config\"]\n",
        "        config_path = \"/content/ViTPose_base_coco_256x192.py\"\n",
        "\n",
        "        # 必要なベースファイルをダウンロード\n",
        "        self._download_base_files()\n",
        "\n",
        "        urllib.request.urlretrieve(config_url, config_path)\n",
        "        model = init_pose_model(config_path, ckpt_path, device=self.device)\n",
        "        return model\n",
        "\n",
        "    def predict_pose(self, image: np.ndarray, det_results: list, box_score_threshold: float = 0.5):\n",
        "        image = image[:, :, ::-1]  # RGB -> BGR\n",
        "        person_results = process_mmdet_results(det_results, 1)\n",
        "        out, _ = inference_top_down_pose_model(\n",
        "            self.model, image, person_results=person_results, bbox_thr=box_score_threshold, format=\"xyxy\"\n",
        "        )\n",
        "        return out\n",
        "\n",
        "    def visualize_pose_results(self, image: np.ndarray, pose_results: list, kpt_score_threshold: float = 0.3, vis_dot_radius: int = 4, vis_line_thickness: int = 1):\n",
        "        image = image[:, :, ::-1]  # RGB -> BGR\n",
        "        vis = vis_pose_result(\n",
        "            self.model,\n",
        "            image,\n",
        "            pose_results,\n",
        "            kpt_score_thr=kpt_score_threshold,\n",
        "            radius=vis_dot_radius,\n",
        "            thickness=vis_line_thickness,\n",
        "        )\n",
        "        return vis[:, :, ::-1]  # BGR -> RGB\n",
        "\n",
        "# モデルの初期化\n",
        "# det_model = DetModel()\n",
        "pose_model = PoseModel()"
      ],
      "metadata": {
        "colab": {
          "base_uri": "https://localhost:8080/",
          "height": 329
        },
        "id": "YpeIlH4CTQHB",
        "outputId": "fcba8b1d-d17e-43f0-ecff-3210637dc28e"
      },
      "execution_count": 18,
      "outputs": [
        {
          "output_type": "error",
          "ename": "FileNotFoundError",
          "evalue": "file \"/_base_/default_runtime.py\" does not exist",
          "traceback": [
            "\u001b[0;31m---------------------------------------------------------------------------\u001b[0m",
            "\u001b[0;31mFileNotFoundError\u001b[0m                         Traceback (most recent call last)",
            "\u001b[0;32m<ipython-input-18-eddb7db26964>\u001b[0m in \u001b[0;36m<cell line: 112>\u001b[0;34m()\u001b[0m\n\u001b[1;32m    110\u001b[0m \u001b[0;31m# モデルの初期化\u001b[0m\u001b[0;34m\u001b[0m\u001b[0;34m\u001b[0m\u001b[0m\n\u001b[1;32m    111\u001b[0m \u001b[0;31m# det_model = DetModel()\u001b[0m\u001b[0;34m\u001b[0m\u001b[0;34m\u001b[0m\u001b[0m\n\u001b[0;32m--> 112\u001b[0;31m \u001b[0mpose_model\u001b[0m \u001b[0;34m=\u001b[0m \u001b[0mPoseModel\u001b[0m\u001b[0;34m(\u001b[0m\u001b[0;34m)\u001b[0m\u001b[0;34m\u001b[0m\u001b[0;34m\u001b[0m\u001b[0m\n\u001b[0m",
            "\u001b[0;32m<ipython-input-18-eddb7db26964>\u001b[0m in \u001b[0;36m__init__\u001b[0;34m(self)\u001b[0m\n\u001b[1;32m     64\u001b[0m         \u001b[0mself\u001b[0m\u001b[0;34m.\u001b[0m\u001b[0mdevice\u001b[0m \u001b[0;34m=\u001b[0m \u001b[0mtorch\u001b[0m\u001b[0;34m.\u001b[0m\u001b[0mdevice\u001b[0m\u001b[0;34m(\u001b[0m\u001b[0;34m\"cuda:0\"\u001b[0m \u001b[0;32mif\u001b[0m \u001b[0mtorch\u001b[0m\u001b[0;34m.\u001b[0m\u001b[0mcuda\u001b[0m\u001b[0;34m.\u001b[0m\u001b[0mis_available\u001b[0m\u001b[0;34m(\u001b[0m\u001b[0;34m)\u001b[0m \u001b[0;32melse\u001b[0m \u001b[0;34m\"cpu\"\u001b[0m\u001b[0;34m)\u001b[0m\u001b[0;34m\u001b[0m\u001b[0;34m\u001b[0m\u001b[0m\n\u001b[1;32m     65\u001b[0m         \u001b[0mself\u001b[0m\u001b[0;34m.\u001b[0m\u001b[0mmodel_name\u001b[0m \u001b[0;34m=\u001b[0m \u001b[0;34m\"ViTPose-B (single-task train)\"\u001b[0m\u001b[0;34m\u001b[0m\u001b[0;34m\u001b[0m\u001b[0m\n\u001b[0;32m---> 66\u001b[0;31m         \u001b[0mself\u001b[0m\u001b[0;34m.\u001b[0m\u001b[0mmodel\u001b[0m \u001b[0;34m=\u001b[0m \u001b[0mself\u001b[0m\u001b[0;34m.\u001b[0m\u001b[0m_load_model\u001b[0m\u001b[0;34m(\u001b[0m\u001b[0mself\u001b[0m\u001b[0;34m.\u001b[0m\u001b[0mmodel_name\u001b[0m\u001b[0;34m)\u001b[0m\u001b[0;34m\u001b[0m\u001b[0;34m\u001b[0m\u001b[0m\n\u001b[0m\u001b[1;32m     67\u001b[0m \u001b[0;34m\u001b[0m\u001b[0m\n\u001b[1;32m     68\u001b[0m     \u001b[0;32mdef\u001b[0m \u001b[0m_download_base_files\u001b[0m\u001b[0;34m(\u001b[0m\u001b[0mself\u001b[0m\u001b[0;34m)\u001b[0m\u001b[0;34m:\u001b[0m\u001b[0;34m\u001b[0m\u001b[0;34m\u001b[0m\u001b[0m\n",
            "\u001b[0;32m<ipython-input-18-eddb7db26964>\u001b[0m in \u001b[0;36m_load_model\u001b[0;34m(self, name)\u001b[0m\n\u001b[1;32m     85\u001b[0m \u001b[0;34m\u001b[0m\u001b[0m\n\u001b[1;32m     86\u001b[0m         \u001b[0murllib\u001b[0m\u001b[0;34m.\u001b[0m\u001b[0mrequest\u001b[0m\u001b[0;34m.\u001b[0m\u001b[0murlretrieve\u001b[0m\u001b[0;34m(\u001b[0m\u001b[0mconfig_url\u001b[0m\u001b[0;34m,\u001b[0m \u001b[0mconfig_path\u001b[0m\u001b[0;34m)\u001b[0m\u001b[0;34m\u001b[0m\u001b[0;34m\u001b[0m\u001b[0m\n\u001b[0;32m---> 87\u001b[0;31m         \u001b[0mmodel\u001b[0m \u001b[0;34m=\u001b[0m \u001b[0minit_pose_model\u001b[0m\u001b[0;34m(\u001b[0m\u001b[0mconfig_path\u001b[0m\u001b[0;34m,\u001b[0m \u001b[0mckpt_path\u001b[0m\u001b[0;34m,\u001b[0m \u001b[0mdevice\u001b[0m\u001b[0;34m=\u001b[0m\u001b[0mself\u001b[0m\u001b[0;34m.\u001b[0m\u001b[0mdevice\u001b[0m\u001b[0;34m)\u001b[0m\u001b[0;34m\u001b[0m\u001b[0;34m\u001b[0m\u001b[0m\n\u001b[0m\u001b[1;32m     88\u001b[0m         \u001b[0;32mreturn\u001b[0m \u001b[0mmodel\u001b[0m\u001b[0;34m\u001b[0m\u001b[0;34m\u001b[0m\u001b[0m\n\u001b[1;32m     89\u001b[0m \u001b[0;34m\u001b[0m\u001b[0m\n",
            "\u001b[0;32m/usr/local/lib/python3.10/dist-packages/mmpose/apis/inference.py\u001b[0m in \u001b[0;36minit_pose_model\u001b[0;34m(config, checkpoint, device)\u001b[0m\n\u001b[1;32m     32\u001b[0m     \"\"\"\n\u001b[1;32m     33\u001b[0m     \u001b[0;32mif\u001b[0m \u001b[0misinstance\u001b[0m\u001b[0;34m(\u001b[0m\u001b[0mconfig\u001b[0m\u001b[0;34m,\u001b[0m \u001b[0mstr\u001b[0m\u001b[0;34m)\u001b[0m\u001b[0;34m:\u001b[0m\u001b[0;34m\u001b[0m\u001b[0;34m\u001b[0m\u001b[0m\n\u001b[0;32m---> 34\u001b[0;31m         \u001b[0mconfig\u001b[0m \u001b[0;34m=\u001b[0m \u001b[0mmmcv\u001b[0m\u001b[0;34m.\u001b[0m\u001b[0mConfig\u001b[0m\u001b[0;34m.\u001b[0m\u001b[0mfromfile\u001b[0m\u001b[0;34m(\u001b[0m\u001b[0mconfig\u001b[0m\u001b[0;34m)\u001b[0m\u001b[0;34m\u001b[0m\u001b[0;34m\u001b[0m\u001b[0m\n\u001b[0m\u001b[1;32m     35\u001b[0m     \u001b[0;32melif\u001b[0m \u001b[0;32mnot\u001b[0m \u001b[0misinstance\u001b[0m\u001b[0;34m(\u001b[0m\u001b[0mconfig\u001b[0m\u001b[0;34m,\u001b[0m \u001b[0mmmcv\u001b[0m\u001b[0;34m.\u001b[0m\u001b[0mConfig\u001b[0m\u001b[0;34m)\u001b[0m\u001b[0;34m:\u001b[0m\u001b[0;34m\u001b[0m\u001b[0;34m\u001b[0m\u001b[0m\n\u001b[1;32m     36\u001b[0m         raise TypeError('config must be a filename or Config object, '\n",
            "\u001b[0;32m/usr/local/lib/python3.10/dist-packages/mmcv/utils/config.py\u001b[0m in \u001b[0;36mfromfile\u001b[0;34m(filename, use_predefined_variables, import_custom_modules)\u001b[0m\n\u001b[1;32m    338\u001b[0m                                                use_predefined_variables)\n\u001b[1;32m    339\u001b[0m         \u001b[0;32mif\u001b[0m \u001b[0mimport_custom_modules\u001b[0m \u001b[0;32mand\u001b[0m \u001b[0mcfg_dict\u001b[0m\u001b[0;34m.\u001b[0m\u001b[0mget\u001b[0m\u001b[0;34m(\u001b[0m\u001b[0;34m'custom_imports'\u001b[0m\u001b[0;34m,\u001b[0m \u001b[0;32mNone\u001b[0m\u001b[0;34m)\u001b[0m\u001b[0;34m:\u001b[0m\u001b[0;34m\u001b[0m\u001b[0;34m\u001b[0m\u001b[0m\n\u001b[0;32m--> 340\u001b[0;31m             \u001b[0mimport_modules_from_strings\u001b[0m\u001b[0;34m(\u001b[0m\u001b[0;34m**\u001b[0m\u001b[0mcfg_dict\u001b[0m\u001b[0;34m[\u001b[0m\u001b[0;34m'custom_imports'\u001b[0m\u001b[0;34m]\u001b[0m\u001b[0;34m)\u001b[0m\u001b[0;34m\u001b[0m\u001b[0;34m\u001b[0m\u001b[0m\n\u001b[0m\u001b[1;32m    341\u001b[0m         \u001b[0;32mreturn\u001b[0m \u001b[0mConfig\u001b[0m\u001b[0;34m(\u001b[0m\u001b[0mcfg_dict\u001b[0m\u001b[0;34m,\u001b[0m \u001b[0mcfg_text\u001b[0m\u001b[0;34m=\u001b[0m\u001b[0mcfg_text\u001b[0m\u001b[0;34m,\u001b[0m \u001b[0mfilename\u001b[0m\u001b[0;34m=\u001b[0m\u001b[0mfilename\u001b[0m\u001b[0;34m)\u001b[0m\u001b[0;34m\u001b[0m\u001b[0;34m\u001b[0m\u001b[0m\n\u001b[1;32m    342\u001b[0m \u001b[0;34m\u001b[0m\u001b[0m\n",
            "\u001b[0;32m/usr/local/lib/python3.10/dist-packages/mmcv/utils/config.py\u001b[0m in \u001b[0;36m_file2dict\u001b[0;34m(filename, use_predefined_variables)\u001b[0m\n\u001b[1;32m    250\u001b[0m             \u001b[0;32mfor\u001b[0m \u001b[0mf\u001b[0m \u001b[0;32min\u001b[0m \u001b[0mbase_filename\u001b[0m\u001b[0;34m:\u001b[0m\u001b[0;34m\u001b[0m\u001b[0;34m\u001b[0m\u001b[0m\n\u001b[1;32m    251\u001b[0m                 \u001b[0m_cfg_dict\u001b[0m\u001b[0;34m,\u001b[0m \u001b[0m_cfg_text\u001b[0m \u001b[0;34m=\u001b[0m \u001b[0mConfig\u001b[0m\u001b[0;34m.\u001b[0m\u001b[0m_file2dict\u001b[0m\u001b[0;34m(\u001b[0m\u001b[0mosp\u001b[0m\u001b[0;34m.\u001b[0m\u001b[0mjoin\u001b[0m\u001b[0;34m(\u001b[0m\u001b[0mcfg_dir\u001b[0m\u001b[0;34m,\u001b[0m \u001b[0mf\u001b[0m\u001b[0;34m)\u001b[0m\u001b[0;34m)\u001b[0m\u001b[0;34m\u001b[0m\u001b[0;34m\u001b[0m\u001b[0m\n\u001b[0;32m--> 252\u001b[0;31m                 \u001b[0mcfg_dict_list\u001b[0m\u001b[0;34m.\u001b[0m\u001b[0mappend\u001b[0m\u001b[0;34m(\u001b[0m\u001b[0m_cfg_dict\u001b[0m\u001b[0;34m)\u001b[0m\u001b[0;34m\u001b[0m\u001b[0;34m\u001b[0m\u001b[0m\n\u001b[0m\u001b[1;32m    253\u001b[0m                 \u001b[0mcfg_text_list\u001b[0m\u001b[0;34m.\u001b[0m\u001b[0mappend\u001b[0m\u001b[0;34m(\u001b[0m\u001b[0m_cfg_text\u001b[0m\u001b[0;34m)\u001b[0m\u001b[0;34m\u001b[0m\u001b[0;34m\u001b[0m\u001b[0m\n\u001b[1;32m    254\u001b[0m \u001b[0;34m\u001b[0m\u001b[0m\n",
            "\u001b[0;32m/usr/local/lib/python3.10/dist-packages/mmcv/utils/config.py\u001b[0m in \u001b[0;36m_file2dict\u001b[0;34m(filename, use_predefined_variables)\u001b[0m\n\u001b[1;32m    181\u001b[0m         \u001b[0mfilename\u001b[0m \u001b[0;34m=\u001b[0m \u001b[0mosp\u001b[0m\u001b[0;34m.\u001b[0m\u001b[0mabspath\u001b[0m\u001b[0;34m(\u001b[0m\u001b[0mosp\u001b[0m\u001b[0;34m.\u001b[0m\u001b[0mexpanduser\u001b[0m\u001b[0;34m(\u001b[0m\u001b[0mfilename\u001b[0m\u001b[0;34m)\u001b[0m\u001b[0;34m)\u001b[0m\u001b[0;34m\u001b[0m\u001b[0;34m\u001b[0m\u001b[0m\n\u001b[1;32m    182\u001b[0m         \u001b[0mcheck_file_exist\u001b[0m\u001b[0;34m(\u001b[0m\u001b[0mfilename\u001b[0m\u001b[0;34m)\u001b[0m\u001b[0;34m\u001b[0m\u001b[0;34m\u001b[0m\u001b[0m\n\u001b[0;32m--> 183\u001b[0;31m         \u001b[0mfileExtname\u001b[0m \u001b[0;34m=\u001b[0m \u001b[0mosp\u001b[0m\u001b[0;34m.\u001b[0m\u001b[0msplitext\u001b[0m\u001b[0;34m(\u001b[0m\u001b[0mfilename\u001b[0m\u001b[0;34m)\u001b[0m\u001b[0;34m[\u001b[0m\u001b[0;36m1\u001b[0m\u001b[0;34m]\u001b[0m\u001b[0;34m\u001b[0m\u001b[0;34m\u001b[0m\u001b[0m\n\u001b[0m\u001b[1;32m    184\u001b[0m         \u001b[0;32mif\u001b[0m \u001b[0mfileExtname\u001b[0m \u001b[0;32mnot\u001b[0m \u001b[0;32min\u001b[0m \u001b[0;34m[\u001b[0m\u001b[0;34m'.py'\u001b[0m\u001b[0;34m,\u001b[0m \u001b[0;34m'.json'\u001b[0m\u001b[0;34m,\u001b[0m \u001b[0;34m'.yaml'\u001b[0m\u001b[0;34m,\u001b[0m \u001b[0;34m'.yml'\u001b[0m\u001b[0;34m]\u001b[0m\u001b[0;34m:\u001b[0m\u001b[0;34m\u001b[0m\u001b[0;34m\u001b[0m\u001b[0m\n\u001b[1;32m    185\u001b[0m             \u001b[0;32mraise\u001b[0m \u001b[0mIOError\u001b[0m\u001b[0;34m(\u001b[0m\u001b[0;34m'Only py/yml/yaml/json type are supported now!'\u001b[0m\u001b[0;34m)\u001b[0m\u001b[0;34m\u001b[0m\u001b[0;34m\u001b[0m\u001b[0m\n",
            "\u001b[0;32m/usr/local/lib/python3.10/dist-packages/mmcv/utils/path.py\u001b[0m in \u001b[0;36mcheck_file_exist\u001b[0;34m(filename, msg_tmpl)\u001b[0m\n\u001b[1;32m     21\u001b[0m \u001b[0;32mdef\u001b[0m \u001b[0mcheck_file_exist\u001b[0m\u001b[0;34m(\u001b[0m\u001b[0mfilename\u001b[0m\u001b[0;34m,\u001b[0m \u001b[0mmsg_tmpl\u001b[0m\u001b[0;34m=\u001b[0m\u001b[0;34m'file \"{}\" does not exist'\u001b[0m\u001b[0;34m)\u001b[0m\u001b[0;34m:\u001b[0m\u001b[0;34m\u001b[0m\u001b[0;34m\u001b[0m\u001b[0m\n\u001b[1;32m     22\u001b[0m     \u001b[0;32mif\u001b[0m \u001b[0;32mnot\u001b[0m \u001b[0mosp\u001b[0m\u001b[0;34m.\u001b[0m\u001b[0misfile\u001b[0m\u001b[0;34m(\u001b[0m\u001b[0mfilename\u001b[0m\u001b[0;34m)\u001b[0m\u001b[0;34m:\u001b[0m\u001b[0;34m\u001b[0m\u001b[0;34m\u001b[0m\u001b[0m\n\u001b[0;32m---> 23\u001b[0;31m         \u001b[0;32mraise\u001b[0m \u001b[0mFileNotFoundError\u001b[0m\u001b[0;34m(\u001b[0m\u001b[0mmsg_tmpl\u001b[0m\u001b[0;34m.\u001b[0m\u001b[0mformat\u001b[0m\u001b[0;34m(\u001b[0m\u001b[0mfilename\u001b[0m\u001b[0;34m)\u001b[0m\u001b[0;34m)\u001b[0m\u001b[0;34m\u001b[0m\u001b[0;34m\u001b[0m\u001b[0m\n\u001b[0m\u001b[1;32m     24\u001b[0m \u001b[0;34m\u001b[0m\u001b[0m\n\u001b[1;32m     25\u001b[0m \u001b[0;34m\u001b[0m\u001b[0m\n",
            "\u001b[0;31mFileNotFoundError\u001b[0m: file \"/_base_/default_runtime.py\" does not exist"
          ]
        }
      ]
    },
    {
      "cell_type": "code",
      "source": [
        "import torch\n",
        "\n",
        "print(torch.__version__)"
      ],
      "metadata": {
        "colab": {
          "base_uri": "https://localhost:8080/"
        },
        "id": "JUzCeRwzcZJ9",
        "outputId": "01831355-a36d-4724-b156-da08c33edf96"
      },
      "execution_count": 5,
      "outputs": [
        {
          "output_type": "stream",
          "name": "stdout",
          "text": [
            "1.11.0+cu102\n"
          ]
        }
      ]
    },
    {
      "cell_type": "code",
      "source": [
        "# 画像のアップロード\n",
        "uploaded = files.upload()\n",
        "\n",
        "for filename in uploaded.keys():\n",
        "    image_path = filename\n",
        "\n",
        "# 画像の読み込み\n",
        "image = plt.imread(image_path)"
      ],
      "metadata": {
        "id": "HcKbwGn1TY5f"
      },
      "execution_count": null,
      "outputs": []
    },
    {
      "cell_type": "code",
      "source": [
        "# 物体検出\n",
        "det_results = det_model.detect(image)\n",
        "det_visualization = det_model.visualize_detection_results(image, det_results)\n",
        "\n",
        "# 検出結果の表示\n",
        "plt.figure(figsize=(10, 10))\n",
        "plt.imshow(det_visualization)\n",
        "plt.title(\"Detection Results\")\n",
        "plt.axis(\"off\")\n",
        "plt.show()"
      ],
      "metadata": {
        "id": "7ALYoTHoTnOF"
      },
      "execution_count": null,
      "outputs": []
    },
    {
      "cell_type": "code",
      "source": [
        "# 姿勢推定\n",
        "pose_results = pose_model.predict_pose(image, det_results)\n",
        "pose_visualization = pose_model.visualize_pose_results(image, pose_results)\n",
        "\n",
        "# 姿勢推定結果の表示\n",
        "plt.figure(figsize=(10, 10))\n",
        "plt.imshow(pose_visualization)\n",
        "plt.title(\"Pose Estimation Results\")\n",
        "plt.axis(\"off\")\n",
        "plt.show()"
      ],
      "metadata": {
        "id": "Vz5pidiBTjSK"
      },
      "execution_count": null,
      "outputs": []
    }
  ]
}